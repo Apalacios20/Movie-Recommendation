{
  "cells": [
    {
      "cell_type": "code",
      "execution_count": 15,
      "metadata": {
        "colab": {
          "base_uri": "https://localhost:8080/",
          "height": 262
        },
        "id": "AtHHgD32BzrD",
        "outputId": "8f4bfee6-4b0b-480c-d8fa-f26e9a0b92ee"
      },
      "outputs": [
        {
          "data": {
            "text/html": [
              "<div>\n",
              "<style scoped>\n",
              "    .dataframe tbody tr th:only-of-type {\n",
              "        vertical-align: middle;\n",
              "    }\n",
              "\n",
              "    .dataframe tbody tr th {\n",
              "        vertical-align: top;\n",
              "    }\n",
              "\n",
              "    .dataframe thead th {\n",
              "        text-align: right;\n",
              "    }\n",
              "</style>\n",
              "<table border=\"1\" class=\"dataframe\">\n",
              "  <thead>\n",
              "    <tr style=\"text-align: right;\">\n",
              "      <th></th>\n",
              "      <th>user_id</th>\n",
              "      <th>movie_id</th>\n",
              "      <th>rating</th>\n",
              "    </tr>\n",
              "  </thead>\n",
              "  <tbody>\n",
              "    <tr>\n",
              "      <th>0</th>\n",
              "      <td>1</td>\n",
              "      <td>1193</td>\n",
              "      <td>5</td>\n",
              "    </tr>\n",
              "    <tr>\n",
              "      <th>1</th>\n",
              "      <td>2098</td>\n",
              "      <td>1193</td>\n",
              "      <td>4</td>\n",
              "    </tr>\n",
              "    <tr>\n",
              "      <th>2</th>\n",
              "      <td>1</td>\n",
              "      <td>661</td>\n",
              "      <td>3</td>\n",
              "    </tr>\n",
              "    <tr>\n",
              "      <th>3</th>\n",
              "      <td>2098</td>\n",
              "      <td>661</td>\n",
              "      <td>3</td>\n",
              "    </tr>\n",
              "    <tr>\n",
              "      <th>4</th>\n",
              "      <td>1</td>\n",
              "      <td>914</td>\n",
              "      <td>3</td>\n",
              "    </tr>\n",
              "  </tbody>\n",
              "</table>\n",
              "</div>"
            ],
            "text/plain": [
              "   user_id  movie_id  rating\n",
              "0        1      1193       5\n",
              "1     2098      1193       4\n",
              "2        1       661       3\n",
              "3     2098       661       3\n",
              "4        1       914       3"
            ]
          },
          "execution_count": 15,
          "metadata": {},
          "output_type": "execute_result"
        }
      ],
      "source": [
        "# Dependencies\n",
        "import matplotlib.pyplot as plt\n",
        "from sklearn.model_selection import train_test_split\n",
        "from sklearn.preprocessing import StandardScaler\n",
        "import pandas as pd\n",
        "import numpy as np\n",
        "\n",
        "from sklearn.neighbors import KNeighborsClassifier\n",
        "from sklearn.metrics import classification_report\n",
        "import warnings\n",
        "\n",
        "from sqlalchemy import true\n",
        "\n",
        "# from google.colab import files\n",
        "# uploaded = files.upload()\n",
        "\n",
        "# Import our input dataset\n",
        "# main_df = pd.read_csv('main_data.csv')\n",
        "main_df = pd.read_csv('./resources/main_data.csv')\n",
        "main_df = main_df.drop('Unnamed: 0', axis=1) # Features\n",
        "main_df.head()"
      ]
    },
    {
      "cell_type": "code",
      "execution_count": 16,
      "metadata": {
        "colab": {
          "base_uri": "https://localhost:8080/"
        },
        "id": "C6_xeLCuBzrG",
        "outputId": "779fd26a-a459-44bf-ef40-0eb929185340"
      },
      "outputs": [
        {
          "name": "stdout",
          "output_type": "stream",
          "text": [
            "<class 'pandas.core.frame.DataFrame'>\n",
            "RangeIndex: 2411620 entries, 0 to 2411619\n",
            "Data columns (total 3 columns):\n",
            " #   Column    Dtype\n",
            "---  ------    -----\n",
            " 0   user_id   int64\n",
            " 1   movie_id  int64\n",
            " 2   rating    int64\n",
            "dtypes: int64(3)\n",
            "memory usage: 55.2 MB\n"
          ]
        }
      ],
      "source": [
        "main_df.info()"
      ]
    },
    {
      "cell_type": "code",
      "execution_count": 17,
      "metadata": {
        "id": "UU9L11MuBzrH"
      },
      "outputs": [
        {
          "data": {
            "text/html": [
              "<div>\n",
              "<style scoped>\n",
              "    .dataframe tbody tr th:only-of-type {\n",
              "        vertical-align: middle;\n",
              "    }\n",
              "\n",
              "    .dataframe tbody tr th {\n",
              "        vertical-align: top;\n",
              "    }\n",
              "\n",
              "    .dataframe thead th {\n",
              "        text-align: right;\n",
              "    }\n",
              "</style>\n",
              "<table border=\"1\" class=\"dataframe\">\n",
              "  <thead>\n",
              "    <tr style=\"text-align: right;\">\n",
              "      <th></th>\n",
              "      <th>user_id</th>\n",
              "      <th>movie_id</th>\n",
              "      <th>rating</th>\n",
              "    </tr>\n",
              "  </thead>\n",
              "  <tbody>\n",
              "    <tr>\n",
              "      <th>0</th>\n",
              "      <td>1</td>\n",
              "      <td>1193</td>\n",
              "      <td>5</td>\n",
              "    </tr>\n",
              "    <tr>\n",
              "      <th>1</th>\n",
              "      <td>2098</td>\n",
              "      <td>1193</td>\n",
              "      <td>4</td>\n",
              "    </tr>\n",
              "    <tr>\n",
              "      <th>2</th>\n",
              "      <td>1</td>\n",
              "      <td>661</td>\n",
              "      <td>3</td>\n",
              "    </tr>\n",
              "    <tr>\n",
              "      <th>3</th>\n",
              "      <td>2098</td>\n",
              "      <td>661</td>\n",
              "      <td>3</td>\n",
              "    </tr>\n",
              "    <tr>\n",
              "      <th>4</th>\n",
              "      <td>1</td>\n",
              "      <td>914</td>\n",
              "      <td>3</td>\n",
              "    </tr>\n",
              "  </tbody>\n",
              "</table>\n",
              "</div>"
            ],
            "text/plain": [
              "   user_id  movie_id  rating\n",
              "0        1      1193       5\n",
              "1     2098      1193       4\n",
              "2        1       661       3\n",
              "3     2098       661       3\n",
              "4        1       914       3"
            ]
          },
          "execution_count": 17,
          "metadata": {},
          "output_type": "execute_result"
        }
      ],
      "source": [
        "# Split the dataframe into data and target\n",
        "y = main_df[\"rating\"].values # Target\n",
        "X = main_df.drop(\"rating\", axis=1) # Features\n",
        "main_df.head()"
      ]
    },
    {
      "cell_type": "code",
      "execution_count": 18,
      "metadata": {
        "id": "J3gELnXVBzrH"
      },
      "outputs": [],
      "source": [
        "# Split the data into training and test sets\n",
        "X_train, X_test, y_train, y_test = train_test_split(X, y, test_size=0.25, random_state=42)"
      ]
    },
    {
      "cell_type": "code",
      "execution_count": 19,
      "metadata": {
        "id": "6WPelZMiBzrI"
      },
      "outputs": [],
      "source": [
        "# Train the scaler with the X_train data.\n",
        "X_scaler = StandardScaler().fit(X_train)"
      ]
    },
    {
      "cell_type": "code",
      "execution_count": 20,
      "metadata": {
        "id": "-KDkc8HTBzrJ"
      },
      "outputs": [],
      "source": [
        "# Transform X_train and X_test.\n",
        "X_train_scaled = X_scaler.transform(X_train)\n",
        "X_test_scaled = X_scaler.transform(X_test)"
      ]
    },
    {
      "cell_type": "code",
      "execution_count": 21,
      "metadata": {
        "id": "JCdnPemEBzrK"
      },
      "outputs": [],
      "source": [
        "# Loop through different k values to find which has the highest accuracy.\n",
        "# Note: We use only odd numbers because we don't want any ties.\n",
        "# train_scores = []\n",
        "# test_scores = []\n",
        "# for k in range(1, 20, 2):\n",
        "#     knn = KNeighborsClassifier(n_neighbors=k)\n",
        "#     knn.fit(X_train_scaled, y_train)\n",
        "#     train_score = knn.score(X_train_scaled, y_train)\n",
        "#     test_score = knn.score(X_test_scaled, y_test)\n",
        "#     train_scores.append(train_score)\n",
        "#     test_scores.append(test_score)\n",
        "#     print(f\"k: {k}, Train/Test Score: {train_score:.3f}/{test_score:.3f}\")\n",
        "    \n",
        "    \n",
        "# plt.plot(range(1, 20, 2), train_scores, marker='o')\n",
        "# plt.plot(range(1, 20, 2), test_scores, marker=\"x\")\n",
        "# plt.xlabel(\"k neighbors\")\n",
        "# plt.ylabel(\"Testing accuracy Score\")\n",
        "# plt.show()"
      ]
    },
    {
      "cell_type": "code",
      "execution_count": 22,
      "metadata": {
        "colab": {
          "base_uri": "https://localhost:8080/"
        },
        "id": "obkFAw1tLJIn",
        "outputId": "ffc2783a-0450-4586-e76f-b68df3473838"
      },
      "outputs": [
        {
          "name": "stdout",
          "output_type": "stream",
          "text": [
            "k=5 Test Acc: 0.833\n"
          ]
        }
      ],
      "source": [
        "knn = KNeighborsClassifier(n_neighbors=1)\n",
        "knn.fit(X_train_scaled, y_train)\n",
        "y_pred = knn.predict(X_test_scaled)\n",
        "print('k=5 Test Acc: %.3f' % knn.score(X_test_scaled, y_test))"
      ]
    },
    {
      "cell_type": "code",
      "execution_count": 23,
      "metadata": {
        "colab": {
          "base_uri": "https://localhost:8080/"
        },
        "id": "w28FaWP6tM1G",
        "outputId": "e27c92b8-2da4-4ccb-a1e7-9d3c1afb9b08"
      },
      "outputs": [
        {
          "data": {
            "text/plain": [
              "array([[ 27130,   1285,   2174,   2289,   1090],\n",
              "       [  1263,  50561,   4734,   5019,   2381],\n",
              "       [  1995,   4463, 130273,  13386,   7140],\n",
              "       [  2109,   4540,  12724, 177468,  12328],\n",
              "       [  1029,   2383,   6796,  11834, 116511]])"
            ]
          },
          "execution_count": 23,
          "metadata": {},
          "output_type": "execute_result"
        }
      ],
      "source": [
        "# Confusion matrix\n",
        "from sklearn.metrics import confusion_matrix\n",
        "y_true = y_test\n",
        "confusion_matrix(y_true, y_pred)"
      ]
    },
    {
      "cell_type": "code",
      "execution_count": 24,
      "metadata": {
        "colab": {
          "base_uri": "https://localhost:8080/"
        },
        "id": "ioOZjQv7LSPM",
        "outputId": "bafc3c80-6fbf-4a8f-b69f-8658d72bdbef"
      },
      "outputs": [
        {
          "name": "stdout",
          "output_type": "stream",
          "text": [
            "              precision    recall  f1-score   support\n",
            "\n",
            "           1       0.81      0.80      0.80     33968\n",
            "           2       0.80      0.79      0.80     63958\n",
            "           3       0.83      0.83      0.83    157257\n",
            "           4       0.85      0.85      0.85    209169\n",
            "           5       0.84      0.84      0.84    138553\n",
            "\n",
            "    accuracy                           0.83    602905\n",
            "   macro avg       0.82      0.82      0.82    602905\n",
            "weighted avg       0.83      0.83      0.83    602905\n",
            "\n"
          ]
        }
      ],
      "source": [
        "# Classification report\n",
        "print(classification_report(y_true, y_pred))"
      ]
    }
  ],
  "metadata": {
    "colab": {
      "provenance": []
    },
    "kernelspec": {
      "display_name": "Python 3.9.7 ('base')",
      "language": "python",
      "name": "python3"
    },
    "language_info": {
      "codemirror_mode": {
        "name": "ipython",
        "version": 3
      },
      "file_extension": ".py",
      "mimetype": "text/x-python",
      "name": "python",
      "nbconvert_exporter": "python",
      "pygments_lexer": "ipython3",
      "version": "3.9.7"
    },
    "orig_nbformat": 4,
    "vscode": {
      "interpreter": {
        "hash": "6e18270aece4886438592095eb7c4077958764c12b3c7681de976e15e7101ea7"
      }
    }
  },
  "nbformat": 4,
  "nbformat_minor": 0
}
